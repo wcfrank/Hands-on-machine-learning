{
 "cells": [
  {
   "cell_type": "markdown",
   "metadata": {},
   "source": [
    "## Multiclass classification"
   ]
  },
  {
   "cell_type": "markdown",
   "metadata": {},
   "source": [
    "Some algorithms (such as __Random Forest__ classifiers or __naive Bayes__ classifiers) are capable of handling\n",
    "multiple classes directly.\n",
    "\n",
    "Others (such as __Support Vector Machine__ classifiers or __Linear__ classifiers) are strictly binary classifiers.\n",
    "\n",
    "Some algorithms (such as Support Vector Machine classifiers) scale poorly with the size of the training\n",
    "set, so for these algorithms OvO is preferred since it is faster to train many classifiers on small training\n",
    "sets than training few classifiers on large training sets. For most binary classification algorithms,\n",
    "however, OvA is preferred.\n",
    "\n",
    "Scikit-Learn detects when you try to use a binary classification algorithm for a multiclass classification\n",
    "task, and it automatically runs OvA (except for SVM classifiers for which it uses OvO)."
   ]
  },
  {
   "cell_type": "markdown",
   "metadata": {},
   "source": [
    "Q：\n",
    "\n",
    "1. 什么时候用StandScaler()，什么时候用MinMaxScaler()？\n",
    "2. cross_val_predict()"
   ]
  },
  {
   "cell_type": "markdown",
   "metadata": {},
   "source": [
    "Analyzing the confusion matrix can often give you insights on ways to improve your classifier"
   ]
  },
  {
   "cell_type": "code",
   "execution_count": null,
   "metadata": {
    "collapsed": true
   },
   "outputs": [],
   "source": []
  }
 ],
 "metadata": {
  "kernelspec": {
   "display_name": "Python 3",
   "language": "python",
   "name": "python3"
  },
  "language_info": {
   "codemirror_mode": {
    "name": "ipython",
    "version": 3
   },
   "file_extension": ".py",
   "mimetype": "text/x-python",
   "name": "python",
   "nbconvert_exporter": "python",
   "pygments_lexer": "ipython3",
   "version": "3.6.3"
  }
 },
 "nbformat": 4,
 "nbformat_minor": 2
}
